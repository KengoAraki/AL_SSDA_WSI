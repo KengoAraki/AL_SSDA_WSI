{
 "cells": [
  {
   "cell_type": "code",
   "execution_count": 17,
   "source": [
    "import matplotlib.pyplot as plt\n",
    "import cv2\n",
    "import numpy as np\n",
    "from PIL import Image\n",
    "import os\n",
    "import sys\n",
    "\n",
    "%matplotlib inline"
   ],
   "outputs": [],
   "metadata": {}
  },
  {
   "cell_type": "code",
   "execution_count": 18,
   "source": [
    "def change_color(img, source_colors, target_colors):\n",
    "    canvas = img.copy()\n",
    "    \n",
    "    for i in range(len(source_colors)):\n",
    "        src = source_colors[i]\n",
    "        trg = target_colors[i]\n",
    "        print(img.shape)\n",
    "        mask = np.all(img == src, axis=-1)\n",
    "        canvas[mask] = trg\n",
    "    return canvas\n",
    "\n",
    "def src_num_to_color(num):\n",
    "    if isinstance(num, list):\n",
    "        num = num[0]\n",
    "\n",
    "    if num == 0:\n",
    "        color = (200, 200, 200)\n",
    "    elif num == 1:\n",
    "        color = (255, 0, 0)\n",
    "    elif num == 2:\n",
    "        # color = (255, 255, 0)\n",
    "        color = (0, 65, 255)\n",
    "    elif num == 3:\n",
    "        color = (0, 255, 0)\n",
    "    elif num == 4:\n",
    "        color = (0, 255, 255)\n",
    "    elif num == 5:\n",
    "        color = (0, 0, 255)\n",
    "    elif num == 6:\n",
    "        color = (255, 0, 255)\n",
    "    elif num == 7:\n",
    "        color = (128, 0, 0)\n",
    "    elif num == 8:\n",
    "        color = (128, 128, 0)\n",
    "    elif num == 9:\n",
    "        color = (0, 128, 0)\n",
    "    elif num == 10:\n",
    "        color = (0, 0, 128)\n",
    "    elif num == 11:\n",
    "        color = (64, 64, 64)\n",
    "    else:\n",
    "        sys.exit(\"invalid number:\" + str(num))\n",
    "    return color"
   ],
   "outputs": [],
   "metadata": {}
  },
  {
   "cell_type": "code",
   "execution_count": 19,
   "source": [
    "# img_dir = \"../ipynb/input_predmap/\"\n",
    "\n",
    "# wsi = \"03_G291\"\n",
    "# img1_path = img_dir + f\"S_cv2_{wsi}.png\" \n",
    "# img2_path = img_dir + f\"ST_03_G144_cv2_{wsi}.png\"\n",
    "# img3_path = img_dir + f\"{wsi}_overlaid.tif\"\n",
    "\n",
    "# img_path_list = [img1_path, img2_path, img3_path]\n",
    "\n",
    "# output_dir = \"../ipynb/output_predmap/\"\n",
    "# ext = \".png\"\n",
    "\n",
    "\n",
    "# img_dir = \"/home/kengoaraki/Desktop/predmap/overlaid_[0, 1, 2]/\"\n",
    "# img_path_list = [img_dir + fname for fname in os.listdir(img_dir)]\n",
    "# output_dir = \"/home/kengoaraki/Desktop/predmap/overlaid_[0, 1, 2]_new/\"\n",
    "# ext = \".png\"\n",
    "\n",
    "img_dir = \"/home/kengoaraki/Desktop/predmap/l_trg_03_G144/cv4/\"\n",
    "img_path_list = [img_dir + fname for fname in os.listdir(img_dir)]\n",
    "output_dir = \"/home/kengoaraki/Desktop/predmap/l_trg_03_G144/\"\n",
    "ext = \".png\""
   ],
   "outputs": [
    {
     "output_type": "error",
     "ename": "FileNotFoundError",
     "evalue": "[Errno 2] No such file or directory: '/home/kengoaraki/Desktop/predmap/l_trg_03_G44/cv4/'",
     "traceback": [
      "\u001b[0;31m---------------------------------------------------------------------------\u001b[0m",
      "\u001b[0;31mFileNotFoundError\u001b[0m                         Traceback (most recent call last)",
      "\u001b[0;32m<ipython-input-19-5c53e03cffe1>\u001b[0m in \u001b[0;36m<module>\u001b[0;34m\u001b[0m\n\u001b[1;32m     18\u001b[0m \u001b[0;34m\u001b[0m\u001b[0m\n\u001b[1;32m     19\u001b[0m \u001b[0mimg_dir\u001b[0m \u001b[0;34m=\u001b[0m \u001b[0;34m\"/home/kengoaraki/Desktop/predmap/l_trg_03_G44/cv4/\"\u001b[0m\u001b[0;34m\u001b[0m\u001b[0;34m\u001b[0m\u001b[0m\n\u001b[0;32m---> 20\u001b[0;31m \u001b[0mimg_path_list\u001b[0m \u001b[0;34m=\u001b[0m \u001b[0;34m[\u001b[0m\u001b[0mimg_dir\u001b[0m \u001b[0;34m+\u001b[0m \u001b[0mfname\u001b[0m \u001b[0;32mfor\u001b[0m \u001b[0mfname\u001b[0m \u001b[0;32min\u001b[0m \u001b[0mos\u001b[0m\u001b[0;34m.\u001b[0m\u001b[0mlistdir\u001b[0m\u001b[0;34m(\u001b[0m\u001b[0mimg_dir\u001b[0m\u001b[0;34m)\u001b[0m\u001b[0;34m]\u001b[0m\u001b[0;34m\u001b[0m\u001b[0;34m\u001b[0m\u001b[0m\n\u001b[0m\u001b[1;32m     21\u001b[0m \u001b[0moutput_dir\u001b[0m \u001b[0;34m=\u001b[0m \u001b[0;34m\"/home/kengoaraki/Desktop/predmap/l_trg_03_G144/\"\u001b[0m\u001b[0;34m\u001b[0m\u001b[0;34m\u001b[0m\u001b[0m\n\u001b[1;32m     22\u001b[0m \u001b[0mext\u001b[0m \u001b[0;34m=\u001b[0m \u001b[0;34m\".png\"\u001b[0m\u001b[0;34m\u001b[0m\u001b[0;34m\u001b[0m\u001b[0m\n",
      "\u001b[0;31mFileNotFoundError\u001b[0m: [Errno 2] No such file or directory: '/home/kengoaraki/Desktop/predmap/l_trg_03_G44/cv4/'"
     ]
    }
   ],
   "metadata": {}
  },
  {
   "cell_type": "code",
   "execution_count": null,
   "source": [
    "# source_colors = [(255, 255, 0)]\n",
    "source_colors = [(0, 65, 255)]\n",
    "target_colors = [(65, 105, 225)] #4169e1 (LSIL用)\n",
    "\n",
    "# for idx in range(len(img_path_list)):\n",
    "#     img = cv2.imread(img_path_list[idx])  # BGR\n",
    "#     #画像の表示\n",
    "#     plt.imshow(cv2.cvtColor(img, cv2.COLOR_BGR2RGB))  # OpenCV は色がGBR順なのでRGB順に並べ替える\n",
    "#     plt.show()\n",
    "    \n",
    "for idx in range(len(img_path_list)):\n",
    "    img_path = img_path_list[idx]\n",
    "    img = cv2.imread(img_path)  # BGR\n",
    "    bf_img = cv2.cvtColor(img.copy(), cv2.COLOR_BGR2RGB)  # RGBに変換\n",
    "    af_img = change_color(bf_img, source_colors, target_colors)  # RGB\n",
    "\n",
    "    img_name = os.path.splitext(os.path.basename(img_path))[0]\n",
    "    output_path = output_dir + img_name + ext\n",
    "    cv2.imwrite(output_path, cv2.cvtColor(af_img, cv2.COLOR_RGB2BGR))\n",
    "    \n",
    "    # #画像の表示\n",
    "    # plt.imshow(af_img)\n",
    "    # plt.show()"
   ],
   "outputs": [
    {
     "output_type": "stream",
     "name": "stdout",
     "text": [
      "(784, 1280, 3)\n",
      "(1008, 1152, 3)\n",
      "(792, 640, 3)\n",
      "(584, 1408, 3)\n"
     ]
    }
   ],
   "metadata": {}
  }
 ],
 "metadata": {
  "kernelspec": {
   "name": "python3",
   "display_name": "Python 3.6.10 64-bit ('pytorch_wsi': conda)"
  },
  "language_info": {
   "codemirror_mode": {
    "name": "ipython",
    "version": 3
   },
   "file_extension": ".py",
   "mimetype": "text/x-python",
   "name": "python",
   "nbconvert_exporter": "python",
   "pygments_lexer": "ipython3",
   "version": "3.6.10"
  },
  "interpreter": {
   "hash": "5387d76cc9e7e166ba7b7df646a4cda7ebebd02c5a2f9ff8a4422acb5f0260bd"
  }
 },
 "nbformat": 4,
 "nbformat_minor": 4
}