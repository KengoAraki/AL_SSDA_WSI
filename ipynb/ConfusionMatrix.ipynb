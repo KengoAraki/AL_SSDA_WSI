{
 "cells": [
  {
   "cell_type": "code",
   "execution_count": 1,
   "metadata": {},
   "outputs": [],
   "source": [
    "import numpy as np\n",
    "import matplotlib.pyplot as plt\n",
    "import itertools\n",
    "\n",
    "\n",
    "%matplotlib inline\n",
    "\n",
    "# ---------------- #\n",
    "# selected_wsi = \"03_G144\"\n",
    "# selected_wsi = \"03_G293\"\n",
    "# selected_wsi = \"03_G109-1\"\n",
    "\n",
    "# output_dir = f\"/mnt/secssd/AL_SSDA_WSI_strage/st_pretrained_result/test/{selected_wsi}/\"\n",
    "# project = f\"st1_pretrained_{selected_wsi}\"\n",
    "# set_data = \"all_trg_unl-MF0003\"\n",
    "\n",
    "\n",
    "# output_dir = f\"/mnt/secssd/AL_SSDA_WSI_strage/s_result/test/src-MF0012\"\n",
    "project = f\"s_MF0012\"\n",
    "set_data = \"all_trg_unl-MF0003\"\n",
    "# set_data = \"all_test-MF0012\"\n",
    "\n",
    "\n",
    "cm0 = np.array(\n",
    "    [[30838,   90,  491],\n",
    "    [  221,  354,   96],\n",
    "    [  155,    7,  787]]\n",
    ")\n",
    "cm1 = np.array(\n",
    "    [[33165,  503,  656],\n",
    "    [   46, 1593,   74],\n",
    "    [  128,  157, 2874]]\n",
    ")\n",
    "cm2 = np.array(\n",
    "    [[32850,  303, 1509],\n",
    "    [   30,  845,  284],\n",
    "    [  223,   39, 1356]]\n",
    ")\n",
    "cm3 = np.array(\n",
    "    [[22065,  276,  749],\n",
    "    [   59, 1026,   39],\n",
    "    [  212,  207, 3048]]\n",
    ")\n",
    "cm4 = np.array(\n",
    "    [[22406,  363,  260],\n",
    "    [   59,  812,  108],\n",
    "    [  133,   14, 2367]]\n",
    ")\n",
    "\n",
    "cm = cm0 + cm1 + cm2 + cm3 + cm4\n",
    "# --------------- #\n",
    "\n",
    "classes = [\"Non-Neop.\", \"HSIL\", \"LSIL\"]\n",
    "save = False\n",
    "dpi = 300"
   ]
  },
  {
   "cell_type": "code",
   "execution_count": 5,
   "metadata": {},
   "outputs": [
    {
     "name": "stdout",
     "output_type": "stream",
     "text": [
      "\n",
      " cm (test-srcMF0012):\n",
      "[[0.69,0.31],\n",
      " [0.04,0.96]]\n",
      "\n",
      "accuracy:  0.82500\n",
      "precision: 0.85056\n",
      "recall:    0.82500\n",
      "f1:        0.83758\n",
      "mIoU:      0.69814\n"
     ]
    }
   ],
   "source": [
    "# 合計後の各評価指標\n",
    "import os\n",
    "import sys\n",
    "from pathlib import Path\n",
    "sys.path.append(os.path.join(Path().resolve(), \"..\"))\n",
    "\n",
    "from S.eval import eval_metrics\n",
    "\n",
    "print(f\"\\n cm ({set_data}):\\n{np.array2string(cm, separator=',')}\\n\")\n",
    "\n",
    "met = eval_metrics(cm)\n",
    "print(f\"accuracy:  {met['accuracy']:.5f}\")\n",
    "print(f\"precision: {met['precision']:.5f}\")\n",
    "print(f\"recall:    {met['recall']:.5f}\")\n",
    "print(f\"f1:        {met['f1']:.5f}\")\n",
    "print(f\"dice:      {met['dice']:.5f}\")\n",
    "print(f\"mIoU:      {met['mIoU']:.5f}\")"
   ]
  },
  {
   "cell_type": "code",
   "execution_count": 2,
   "metadata": {},
   "outputs": [
    {
     "name": "stdout",
     "output_type": "stream",
     "text": [
      "\n",
      " cm-cv0 (all_trg_unl-MF0003):\n",
      "[[30838,   90,  491],\n",
      " [  221,  354,   96],\n",
      " [  155,    7,  787]]\n",
      "\n",
      "accuracy:  0.96792\n",
      "precision: 0.78189\n",
      "recall:    0.77946\n",
      "f1:        0.78067\n",
      "dice:      0.76444\n",
      "mIoU:      0.64774\n",
      "\n",
      " cm-cv1 (all_trg_unl-MF0003):\n",
      "[[33165,  503,  656],\n",
      " [   46, 1593,   74],\n",
      " [  128,  157, 2874]]\n",
      "\n",
      "accuracy:  0.96010\n",
      "precision: 0.83310\n",
      "recall:    0.93532\n",
      "f1:        0.88125\n",
      "dice:      0.87785\n",
      "mIoU:      0.79056\n",
      "\n",
      " cm-cv2 (all_trg_unl-MF0003):\n",
      "[[32850,  303, 1509],\n",
      " [   30,  845,  284],\n",
      " [  223,   39, 1356]]\n",
      "\n",
      "accuracy:  0.93622\n",
      "precision: 0.71162\n",
      "recall:    0.83829\n",
      "f1:        0.76978\n",
      "dice:      0.75294\n",
      "mIoU:      0.63378\n",
      "\n",
      " cm-cv3 (all_trg_unl-MF0003):\n",
      "[[22065,  276,  749],\n",
      " [   59, 1026,   39],\n",
      " [  212,  207, 3048]]\n",
      "\n",
      "accuracy:  0.94429\n",
      "precision: 0.82079\n",
      "recall:    0.91586\n",
      "f1:        0.86572\n",
      "dice:      0.86184\n",
      "mIoU:      0.76644\n",
      "\n",
      " cm-cv4 (all_trg_unl-MF0003):\n",
      "[[22406,  363,  260],\n",
      " [   59,  812,  108],\n",
      " [  133,   14, 2367]]\n",
      "\n",
      "accuracy:  0.96467\n",
      "precision: 0.84663\n",
      "recall:    0.91463\n",
      "f1:        0.87932\n",
      "dice:      0.87770\n",
      "mIoU:      0.79501\n",
      "\n",
      " cm-all (all_trg_unl-MF0003):\n",
      "[[141324,  1535,  3665],\n",
      " [   415,  4630,   601],\n",
      " [   851,   424, 10432]]\n",
      "\n",
      "accuracy:  0.95429\n",
      "precision: 0.80119\n",
      "recall:    0.89188\n",
      "f1:        0.84411\n",
      "dice:      0.84154\n",
      "mIoU:      0.73939\n"
     ]
    }
   ],
   "source": [
    "# 合計後の各評価指標\n",
    "import os\n",
    "import sys\n",
    "from pathlib import Path\n",
    "sys.path.append(os.path.join(Path().resolve(), \"..\"))\n",
    "\n",
    "from S.eval import eval_metrics\n",
    "\n",
    "\n",
    "def met_out(cm, title=\"cv0\"):\n",
    "    print(f\"\\n cm-{title} ({set_data}):\\n{np.array2string(cm, separator=',')}\\n\")\n",
    "\n",
    "    met = eval_metrics(cm)\n",
    "    print(f\"accuracy:  {met['accuracy']:.5f}\")\n",
    "    print(f\"precision: {met['precision']:.5f}\")\n",
    "    print(f\"recall:    {met['recall']:.5f}\")\n",
    "    print(f\"f1:        {met['f1']:.5f}\")\n",
    "    print(f\"dice:      {met['dice']:.5f}\")\n",
    "    print(f\"mIoU:      {met['mIoU']:.5f}\")\n",
    "\n",
    "met_out(cm0, title=\"cv0\")\n",
    "met_out(cm1, title=\"cv1\")\n",
    "met_out(cm2, title=\"cv2\")\n",
    "met_out(cm3, title=\"cv3\")\n",
    "met_out(cm4, title=\"cv4\")\n",
    "met_out(cm, title=\"all\")"
   ]
  },
  {
   "cell_type": "code",
   "execution_count": 6,
   "metadata": {},
   "outputs": [],
   "source": [
    "# 軸入れ替え\n",
    "cm = cm[:, [0, 2, 1]]\n",
    "cm = cm[[0, 2, 1], :]\n",
    "classes = [\"Non-Neop.\", \"LSIL\", \"HSIL\"]"
   ]
  },
  {
   "cell_type": "code",
   "execution_count": 7,
   "metadata": {},
   "outputs": [],
   "source": [
    "def plot_confusion_matrix(cm, class_names, normalize=True):\n",
    "    \"\"\"\n",
    "    Returns a matplotlib figure containing the plotted confusion matrix.\n",
    "\n",
    "    Args:\n",
    "       cm (array, shape = [n, n]): a confusion matrix of integer classes\n",
    "       class_names (array, shape = [n]): String names of the integer classes\n",
    "    https://towardsdatascience.com/exploring-confusion-matrix-evolution-on-tensorboard-e66b39f4ac12\n",
    "    \"\"\"\n",
    "\n",
    "    figure = plt.figure(figsize=(8, 8))\n",
    "    plt.rcParams[\"font.size\"] = 20\n",
    "    # Normalize the confusion matrix.\n",
    "    if normalize:\n",
    "        cm = np.around(cm.astype('float') / cm.sum(axis=1)[:, np.newaxis], decimals=2)\n",
    "        plt.imshow(cm, interpolation=\"nearest\", cmap=plt.cm.Blues, vmin=0, vmax=1)\n",
    "    else:\n",
    "        plt.imshow(cm, interpolation=\"nearest\", cmap=plt.cm.Blues)\n",
    "\n",
    "    tick_marks = np.arange(len(class_names))\n",
    "    plt.xticks(tick_marks, class_names, rotation=45)\n",
    "    plt.yticks(tick_marks, class_names)\n",
    "\n",
    "    # Use white text if squares are dark; otherwise black.\n",
    "    threshold = cm.max() / 2.\n",
    "\n",
    "    for i, j in itertools.product(range(cm.shape[0]), range(cm.shape[1])):\n",
    "        color = \"white\" if cm[i, j] > threshold else \"black\"\n",
    "        plt.text(j, i, cm[i, j], horizontalalignment=\"center\", color=color)\n",
    "\n",
    "    plt.ylabel('True label')\n",
    "    plt.xlabel('Predicted label')\n",
    "    plt.tight_layout()\n",
    "    return figure\n"
   ]
  },
  {
   "cell_type": "code",
   "execution_count": 8,
   "metadata": {},
   "outputs": [
    {
     "data": {
      "image/png": "[encoded data removed]",
      "text/plain": [
       "<Figure size 576x576 with 1 Axes>"
      ]
     },
     "metadata": {
      "needs_background": "light"
     },
     "output_type": "display_data"
    }
   ],
   "source": [
    "# Not-Normalized\n",
    "cm_plt = plot_confusion_matrix(\n",
    "    cm, classes, normalize=False)\n",
    "if save:\n",
    "    cm_plt.savefig(\n",
    "        output_dir\n",
    "        + project\n",
    "        + \"_\"\n",
    "        + set_data\n",
    "        + \"_nn-confmatrix.png\",\n",
    "        dpi=dpi\n",
    "    )\n",
    "# plt.clf()\n",
    "# plt.close()"
   ]
  },
  {
   "cell_type": "code",
   "execution_count": 9,
   "metadata": {},
   "outputs": [
    {
     "data": {
      "image/png": "[encoded data removed]",
      "text/plain": [
       "<Figure size 576x576 with 1 Axes>"
      ]
     },
     "metadata": {
      "needs_background": "light"
     },
     "output_type": "display_data"
    }
   ],
   "source": [
    "# Normalized\n",
    "cm_plt = plot_confusion_matrix(\n",
    "    cm, classes, normalize=True)\n",
    "if save:\n",
    "    cm_plt.savefig(\n",
    "        output_dir\n",
    "        + project\n",
    "        + \"_\"\n",
    "        + set_data\n",
    "        + \"_confmatrix.png\",\n",
    "        dpi=dpi\n",
    "    )\n",
    "# plt.clf()\n",
    "# plt.close()"
   ]
  }
 ],
 "metadata": {
  "interpreter": {
   "hash": "5387d76cc9e7e166ba7b7df646a4cda7ebebd02c5a2f9ff8a4422acb5f0260bd"
  },
  "kernelspec": {
   "display_name": "Python 3.6.10 64-bit ('pytorch_wsi': conda)",
   "name": "python3"
  },
  "language_info": {
   "codemirror_mode": {
    "name": "ipython",
    "version": 3
   },
   "file_extension": ".py",
   "mimetype": "text/x-python",
   "name": "python",
   "nbconvert_exporter": "python",
   "pygments_lexer": "ipython3",
   "version": "3.6.10"
  }
 },
 "nbformat": 4,
 "nbformat_minor": 4
}
